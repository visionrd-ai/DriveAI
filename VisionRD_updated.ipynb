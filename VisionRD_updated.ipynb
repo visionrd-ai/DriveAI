{
 "cells": [
  {
   "cell_type": "markdown",
   "metadata": {},
   "source": [
    "<img src=\"./data/Dark-Vertical.png\" alt= “VisionRD” width=\"250\" height=\"250\">"
   ]
  },
  {
   "cell_type": "markdown",
   "metadata": {},
   "source": [
    "# <center>**Problem Statement**"
   ]
  },
  {
   "cell_type": "markdown",
   "metadata": {},
   "source": [
    "<center>The majority of ADAS and vehicle automation tools are used in the newest OEM vehicles despite not having been tested in Pakistan. It is indispensable for companies working in autonomous driving to capture uncertainties to make their autonomous vehicles safe for public use. Consider an autonomous vehicle operating in an Asian environment where it encounters a rickshaw or a tricycle etc. which are quite common in Asian environments but are very rare in western environments where most of the models are trained. The models will become uncertain and there will be a huge risk of failure. \n",
    "    \n",
    "<img src=\"./data/Haval-Logo.jpg\" alt= “haval” width=\"200\" height=\"200\">\n",
    "<img src=\"./data/dashboard.jpg\" alt= “haval-dash” width=\"747\" height=\"307\">\n",
    "\n",
    "<center>GWM Haval H6 vehicle was not able to detect \"Autorickshaw\" and other three wheeler vehicle's on roads of Pakistan <br>\n",
    "    \n",
    "**<center>VisionRD offers a complete solution, including a data lake architecture for data acquisition. It will benefit from strong computing power and thus be able to analyse the entire data distribution simultaneously.It will also help you in testing and improving your AI algorithms by fine tunining with rare edge cases that we have identified and verified on Pakistani roadways and in its enviroment which will help improving, CRUISE, there perception modules.**"
   ]
  },
  {
   "cell_type": "markdown",
   "metadata": {},
   "source": [
    "# <center>**Autonomous**"
   ]
  },
  {
   "cell_type": "markdown",
   "metadata": {},
   "source": [
    "### __VisionRD Autonomous driving data lake and scenario extraction Architecture__"
   ]
  },
  {
   "cell_type": "markdown",
   "metadata": {},
   "source": [
    "<img src=\"./data/datalake.png\" alt= “datalake” width=\"1080\" height=\"1920\">"
   ]
  },
  {
   "cell_type": "markdown",
   "metadata": {},
   "source": [
    "### __Amazon S3 bucket for Raw Images__"
   ]
  },
  {
   "cell_type": "markdown",
   "metadata": {},
   "source": [
    "<img src=\"./data/s3.png\" alt= “S3” width=\"1080\" height=\"1920\">\n",
    "<img src=\"./data/ezgif.com-gif-maker.gif\" alt= “gif” width=\"640\" height=\"360\">"
   ]
  },
  {
   "cell_type": "markdown",
   "metadata": {},
   "source": [
    "### __Amazon S3 Fargate__\n",
    "\n",
    "AWS Fargate is a technology that provides on-demand, right-sized compute capacity for containers. With AWS Fargate, you don't have to provision, configure, or scale groups of virtual machines on your own to run containers."
   ]
  },
  {
   "cell_type": "markdown",
   "metadata": {},
   "source": [
    "<img src=\"./data/fargate.png\" alt= “Fargate” width=\"720\" height=\"640\">"
   ]
  },
  {
   "cell_type": "markdown",
   "metadata": {},
   "source": [
    "# <center>**Scenario Extraction**"
   ]
  },
  {
   "cell_type": "markdown",
   "metadata": {},
   "source": [
    "## <center>**Scenario Extraction Architecture**"
   ]
  },
  {
   "cell_type": "markdown",
   "metadata": {},
   "source": [
    "<img src=\"./data/bla.png\" alt= “Arch” width=\"540\" height=\"360\">"
   ]
  },
  {
   "cell_type": "markdown",
   "metadata": {},
   "source": [
    "**We provide Scenario Extraction architecture for identyfing rare cases and determining uncertanity.**\n",
    "\n",
    "To demonstrate this, consider Motorcycle detection. In this case our model is **calculating uncertainty scores** while keeping an eye out for Motorcycles. Images from the car's cameras are fed into the detection model, which uses the images to identify motorcycles. \n",
    "\n",
    "Then, we use our **Automated intelligent trigger** to determine an **uncertainty score** for every single motorcycle.The model might be certain that some objects are motorcycle, but unsure about others. Then, we add all these individual scores to create an overall image uncertainty score and establish an **uncertainty threshold**. If this limit is exceeded, it means that we are interested in this image."
   ]
  },
  {
   "cell_type": "markdown",
   "metadata": {},
   "source": [
    "<img src=\"./data/vis_new.png\" alt= “Arch”>"
   ]
  },
  {
   "cell_type": "markdown",
   "metadata": {},
   "source": [
    "## Custom Un-supervised Predictive Uncertanity Estimation"
   ]
  },
  {
   "cell_type": "code",
   "execution_count": null,
   "metadata": {},
   "outputs": [],
   "source": [
    "#Load model\n",
    "model_det = load(weights_det, map_location=device)\n",
    "\n",
    "print(\"Model Loaded...\")\n",
    "\n",
    "#Load Raw Images from S3 bucket\n",
    "source = LoadImages(S3_source, img_size=imgsize)\n",
    "\n",
    "#inferencing\n",
    "for image in tqdm(source):\n",
    "            \n",
    "            #Predictions\n",
    "            preds = model_det(image)[0] # preds = [bBox, Probs]\n",
    "            \n",
    "            #Scenario Extraction\n",
    "            scenarios = scenario_extraction(preds, image)\n",
    "            \n",
    "            #S3 Upload\n",
    "            s3.upload_file(\n",
    "                 Filename=\"scenarios\",\n",
    "                 Bucket=\"Bucket_name\",\n",
    "                 Key=f\"bosch/{ind}.jpg\"\n",
    "            )\n",
    "#S3 path Object\n",
    "response = create_presigned_url(\"Bucket_name\", \"bosch/%d.jpg\", expiration=3600)\n",
    "               "
   ]
  },
  {
   "cell_type": "markdown",
   "metadata": {},
   "source": [
    "## Access to detected Scenario's"
   ]
  },
  {
   "cell_type": "markdown",
   "metadata": {},
   "source": [
    "<img src=\"./data/access.png\" alt= “access” width=\"640\" height=\"360\">"
   ]
  },
  {
   "cell_type": "markdown",
   "metadata": {},
   "source": [
    "##  Epistemic Uncertainty Estimation"
   ]
  },
  {
   "cell_type": "markdown",
   "metadata": {},
   "source": [
    "For each element of the anticipated anchors, $ \\mu $, and the standard deviation, $\\sigma$,  comprise the Gaussian Probability Distribution function. When testing, we can calculate the Negative log-likelihood that an object is detected and its probability distribution vector,*I*, belongs to the class *$ \\hat l $* by:"
   ]
  },
  {
   "cell_type": "markdown",
   "metadata": {},
   "source": [
    "$$ p = -log( \\sum\\limits _{j=1} ^{M} N(I;\\mu_{i,j},\\sigma_{i,j}) $$"
   ]
  },
  {
   "cell_type": "markdown",
   "metadata": {},
   "source": [
    "We compute the log-likelihood of the data *$ I $* for each known class model to obtain an epistemic uncertainty metric for each known class *$ \\hat l $*."
   ]
  },
  {
   "cell_type": "markdown",
   "metadata": {},
   "source": [
    "$$ P = (-log(p(I:\\hat l_{1})),....,(-log(p(I:\\hat l_{N}))  $$"
   ]
  },
  {
   "cell_type": "markdown",
   "metadata": {},
   "source": [
    "A high negative log-likelihood represents a high uncertainty the detected object belongs to the respective known class"
   ]
  },
  {
   "cell_type": "markdown",
   "metadata": {},
   "source": [
    "# Extracted Scenario's"
   ]
  },
  {
   "cell_type": "markdown",
   "metadata": {},
   "source": [
    "This approach is used for scenarios extraction i.e to track the instances/objects where the model will fail. Some examples of advanced use cases of the above mentioned approach are given below:"
   ]
  },
  {
   "cell_type": "markdown",
   "metadata": {},
   "source": [
    "**Input:**\n",
    "<img src=\"./data/s1_i.gif\" alt= “si_i” width=\"640\" height=\"360\">"
   ]
  },
  {
   "cell_type": "markdown",
   "metadata": {},
   "source": [
    "**Output:**\n",
    "<center>An unusual three wheeler is being detected by the model but it is uncertain on it.\n",
    "<img src=\"./data/s1_o.gif\" alt= “si_i” width=\"640\" height=\"360\">"
   ]
  },
  {
   "cell_type": "markdown",
   "metadata": {},
   "source": [
    "**Input:**\n",
    "<img src=\"./data/s2_i.gif\" alt= “si_i” width=\"640\" height=\"360\">"
   ]
  },
  {
   "cell_type": "markdown",
   "metadata": {},
   "source": [
    "**Output:**\n",
    "<center>An unusual pickup truck is being detected by the model but it is uncertain on it.\n",
    "<img src=\"./data/s2_o.gif\" alt= “si_i” width=\"640\" height=\"360\">"
   ]
  },
  {
   "cell_type": "markdown",
   "metadata": {},
   "source": [
    "**Input:**\n",
    "<img src=\"./data/s3_i.gif\" alt= “si_i” width=\"640\" height=\"360\">"
   ]
  },
  {
   "cell_type": "markdown",
   "metadata": {},
   "source": [
    "**Output:**\n",
    "<center>An unusual motorcyle carryig milk bottles is being detected by the model but it is uncertain on it.\n",
    "<img src=\"./data/s3_o.gif\" alt= “si_i” width=\"640\" height=\"360\">"
   ]
  },
  {
   "cell_type": "markdown",
   "metadata": {},
   "source": [
    "**Input:**\n",
    "<img src=\"./data/s4_i.gif\" alt= “si_i” width=\"640\" height=\"360\">"
   ]
  },
  {
   "cell_type": "markdown",
   "metadata": {},
   "source": [
    "**Output:**\n",
    "<img src=\"./data/s4_o.gif\" alt= “si_i” width=\"640\" height=\"360\">"
   ]
  },
  {
   "cell_type": "markdown",
   "metadata": {},
   "source": [
    "**Input:**\n",
    "<img src=\"./data/s5_i.gif\" alt= “si_i” width=\"640\" height=\"360\">"
   ]
  },
  {
   "cell_type": "markdown",
   "metadata": {},
   "source": [
    "**Output:**\n",
    "<center>An unusual bike carrying sacks is being detected by the model but it is uncertain on it.\n",
    "<img src=\"./data/s5_o.gif\" alt= “si_i” width=\"640\" height=\"360\">"
   ]
  },
  {
   "cell_type": "markdown",
   "metadata": {},
   "source": [
    "# Analytics"
   ]
  },
  {
   "cell_type": "markdown",
   "metadata": {},
   "source": [
    "<img src=\"./data/vehicle.png\" alt= “vec” width=\"1080\" height=\"720\">"
   ]
  },
  {
   "cell_type": "markdown",
   "metadata": {},
   "source": [
    "<img src=\"./data/person.png\" alt= “vec” width=\"1080\" height=\"720\">"
   ]
  },
  {
   "cell_type": "markdown",
   "metadata": {},
   "source": [
    "# __What we do with this data?__"
   ]
  },
  {
   "cell_type": "markdown",
   "metadata": {},
   "source": [
    "Once our model has collected enough data, it can be used for multiple purposes. You can train a perception module, for example, which is one of the key building blocks of the traffic detection feature."
   ]
  },
  {
   "cell_type": "markdown",
   "metadata": {},
   "source": [
    "# Mono Camera preception Solution for ADAS"
   ]
  },
  {
   "cell_type": "markdown",
   "metadata": {},
   "source": [
    "VisionRD provides Preception Algorithms to meet ADAS, AD requirments."
   ]
  },
  {
   "attachments": {},
   "cell_type": "markdown",
   "metadata": {},
   "source": [
    "<video width=\"480\" height=\"360\" \n",
    "       src=\"./data/highway.webm\"  \n",
    "       controls>\n",
    "</video>"
   ]
  },
  {
   "cell_type": "markdown",
   "metadata": {},
   "source": [
    "#### VisionRD Complete Solution for Preception problems and Algorithms to provide best results on unknown locations with :\n",
    "\n",
    "1. **Detection**\n",
    "2. **Classification**\n",
    "3. **Segmentation**\n",
    "4. **Uncertanity Estimation**"
   ]
  },
  {
   "cell_type": "markdown",
   "metadata": {},
   "source": [
    "## __Detections on roads of RawalPindi__"
   ]
  },
  {
   "cell_type": "markdown",
   "metadata": {},
   "source": [
    "<img src=\"./data/pindi.gif\" alt= “si_i” width=\"640\" height=\"360\">\n",
    "<img src=\"./data/combine_images.jpg\" alt= “si_i” width=\"3840\" height=\"1440\">\n",
    "<center>Detection results on Murree Road, RawalPindi <br>"
   ]
  }
 ],
 "metadata": {
  "kernelspec": {
   "display_name": "Python 3",
   "language": "python",
   "name": "python3"
  },
  "language_info": {
   "codemirror_mode": {
    "name": "ipython",
    "version": 3
   },
   "file_extension": ".py",
   "mimetype": "text/x-python",
   "name": "python",
   "nbconvert_exporter": "python",
   "pygments_lexer": "ipython3",
   "version": "3.7.3"
  }
 },
 "nbformat": 4,
 "nbformat_minor": 5
}
